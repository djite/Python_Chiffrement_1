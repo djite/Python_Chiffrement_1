{
 "cells": [
  {
   "cell_type": "markdown",
   "metadata": {},
   "source": [
    "# Mamadou Mourtalla NDjitte \n",
    "L3 TDSI \n",
    "mourtalladjite@outlook.fr"
   ]
  },
  {
   "cell_type": "markdown",
   "metadata": {},
   "source": [
    "# Partie 1 : Cryptographie\n",
    "Cesar , Affine , Substitution , Permitation ,Vigenere ,Hill,Vernam\n",
    "\n",
    "Cryptanalyse du chiffrement par substitution"
   ]
  },
  {
   "cell_type": "markdown",
   "metadata": {},
   "source": [
    "## Important"
   ]
  },
  {
   "cell_type": "code",
   "execution_count": 77,
   "metadata": {},
   "outputs": [],
   "source": [
    "import random \n",
    "import string\n",
    "import numpy as np\n",
    "\n",
    "dico = {'A':0,'B':1,'C':2,'D':3,'E':4,'F':5,'G':6,'H':7,'I':8,\n",
    "        'J':9,'K':10,'L':11,'M':12,'N':13,'O':14,'P':15,'Q':16,'R':17\n",
    "       ,'S':18,'T':19,'U':20,'V':21,'W':22,'X':23,'Y':24,'Z':25}\n",
    "\n",
    "list_keys=list(dico.keys())\n",
    "\n",
    "def format_message(message):\n",
    "    message = message.upper()\n",
    "    message_g=''\n",
    "    e=[\"Ê\",\"Ë\",\"É\",\"È\"] #è,é,..org(é)\n",
    "    for i in message:\n",
    "        if i in e :\n",
    "            i=i.replace(i,'E')\n",
    "        if ( i in dico.keys() ):\n",
    "            message_g += i\n",
    "    return message_g\n",
    "\n",
    "def pgcd(a,b): \n",
    "    if(b==0): \n",
    "        return a \n",
    "    else: \n",
    "        return pgcd(b,a%b) \n",
    "    \n",
    "\n",
    "def inverse(n):\n",
    "     #permet de trover multiplicatif de n%26\n",
    "    inverseValue=1\n",
    "    for i in range(26):\n",
    "        if (n*i)%26 == 1:\n",
    "            inverseValue=i\n",
    "    return inverseValue  \n",
    "\n"
   ]
  },
  {
   "cell_type": "code",
   "execution_count": 28,
   "metadata": {},
   "outputs": [
    {
     "data": {
      "text/plain": [
       "'EEEE'"
      ]
     },
     "execution_count": 28,
     "metadata": {},
     "output_type": "execute_result"
    }
   ],
   "source": [
    "format_message('éééé')"
   ]
  },
  {
   "cell_type": "code",
   "execution_count": 3,
   "metadata": {},
   "outputs": [
    {
     "data": {
      "text/plain": [
       "'D'"
      ]
     },
     "execution_count": 3,
     "metadata": {},
     "output_type": "execute_result"
    }
   ],
   "source": [
    "list_keys[3]"
   ]
  },
  {
   "cell_type": "code",
   "execution_count": 6,
   "metadata": {},
   "outputs": [
    {
     "data": {
      "text/plain": [
       "15"
      ]
     },
     "execution_count": 6,
     "metadata": {},
     "output_type": "execute_result"
    }
   ],
   "source": [
    " inverse(7)"
   ]
  },
  {
   "cell_type": "markdown",
   "metadata": {},
   "source": [
    "# 1__ Cesar\n"
   ]
  },
  {
   "cell_type": "markdown",
   "metadata": {},
   "source": [
    "Il s'agit d'un type de chiffrement de substitution dans lequel chaque lettre du texte en clair est remplacée par une lettre d'un nombre fixe de positions dans l' alphabet . \n",
    "Chiffrement d'une lettre x par un décalage n peut être décrit mathématiquement comme\n",
    "\n",
    "E_ {n} (x) = (x + n) mod {26}.\n",
    "\n",
    "\n",
    "D_ {n} (x) = (x - n) mod {26}.\n",
    "\n",
    " Dans ce qui précède, le résultat est compris entre 0 et 25; c'est-à-dire que si x + n ou x - n ne sont pas compris entre 0 et 25, nous devons soustraire ou ajouter 26 .)"
   ]
  },
  {
   "cell_type": "markdown",
   "metadata": {},
   "source": [
    "## Genkey_Cesar"
   ]
  },
  {
   "cell_type": "code",
   "execution_count": 7,
   "metadata": {},
   "outputs": [],
   "source": [
    "def genkey_cesar():\n",
    "    kc = random.randint(1,25)\n",
    "    return kc"
   ]
  },
  {
   "cell_type": "code",
   "execution_count": 8,
   "metadata": {},
   "outputs": [
    {
     "data": {
      "text/plain": [
       "12"
      ]
     },
     "execution_count": 8,
     "metadata": {},
     "output_type": "execute_result"
    }
   ],
   "source": [
    " genkey_cesar()"
   ]
  },
  {
   "cell_type": "markdown",
   "metadata": {},
   "source": [
    "## Cipher_Cesar"
   ]
  },
  {
   "cell_type": "code",
   "execution_count": 9,
   "metadata": {},
   "outputs": [],
   "source": [
    "def cipher_cesar(message,clef=genkey_cesar()):\n",
    "    m = format_message(message)\n",
    "    chiffre=''\n",
    "    #print(clef)\n",
    "    for i in m :\n",
    "        for l,v in dico.items():\n",
    "            if l ==  i:\n",
    "                chiffre += list_keys[(v+clef)%26]\n",
    "    return chiffre"
   ]
  },
  {
   "cell_type": "code",
   "execution_count": 10,
   "metadata": {},
   "outputs": [
    {
     "data": {
      "text/plain": [
       "'NORQ'"
      ]
     },
     "execution_count": 10,
     "metadata": {},
     "output_type": "execute_result"
    }
   ],
   "source": [
    "cipher_cesar('ABéD')"
   ]
  },
  {
   "cell_type": "markdown",
   "metadata": {},
   "source": [
    "## Dechifer_Cesar"
   ]
  },
  {
   "cell_type": "code",
   "execution_count": 11,
   "metadata": {},
   "outputs": [],
   "source": [
    "def dechifer_cesar(chiffre,clef):\n",
    "    dechiffre=''\n",
    "    #print(clef)\n",
    "    for i in chiffre:\n",
    "        for l,v in dico.items():\n",
    "            if i == l :\n",
    "                dechiffre += list_keys[(v-clef) % 26]\n",
    "    return dechiffre"
   ]
  },
  {
   "cell_type": "code",
   "execution_count": 12,
   "metadata": {},
   "outputs": [
    {
     "data": {
      "text/plain": [
       "'ABCD'"
      ]
     },
     "execution_count": 12,
     "metadata": {},
     "output_type": "execute_result"
    }
   ],
   "source": [
    "dechifer_cesar('BCDE',1)"
   ]
  },
  {
   "cell_type": "markdown",
   "metadata": {},
   "source": [
    "## 2__Affine"
   ]
  },
  {
   "cell_type": "markdown",
   "metadata": {},
   "source": [
    "L'affine est un type de chiffrement de substitution monoalphabétique , où chaque lettre d'un alphabet est mappée à son équivalent numérique, chiffrée à l'aide d'une simple fonction mathématique et reconvertie en lettre.\n",
    "\n",
    "**Formule du chiffrement:**\n",
    "\n",
    "y ≡ ax + b [26] et 0≤y≤25\n",
    "\n",
    "Un couple (a ,b) convient (au sens précédent) pour un algorithme de chiffrement affine si et seulement si a et 26 sont premiers entre eux, i.e. \n",
    "PGCD(a,26)=1\n",
    " Il n’y a pas de conditions sur b.\n",
    " \n",
    "**Formule du déchiffrement affine**\n",
    "\n",
    "Soient a et b des éléments de N tels que PGCD(a,26)=1.\n",
    "\n",
    "Soit a′ l'inverse multiplicatif de a modulo 26. On pose \n",
    "b′≡−a′b[26].\n",
    "\n",
    "Une lettre y du message chiffré correspondra à la lettre x du message d'origine vérifiant\n",
    "\n",
    "x≡a′y+b′[26] et 0≤x≤25"
   ]
  },
  {
   "cell_type": "markdown",
   "metadata": {},
   "source": [
    "## Genkey_Affine"
   ]
  },
  {
   "cell_type": "code",
   "execution_count": 13,
   "metadata": {},
   "outputs": [],
   "source": [
    "def genkey_affine(): \n",
    "    i = random.randint(0,25)\n",
    "    while  pgcd(i,26) != 1:\n",
    "        i = random.randint(0,25)\n",
    "    ka1 = i\n",
    "    ka2=random.randint(0,25)\n",
    "    key=[ka1 , ka2]\n",
    "    return key"
   ]
  },
  {
   "cell_type": "code",
   "execution_count": 14,
   "metadata": {},
   "outputs": [
    {
     "data": {
      "text/plain": [
       "[23, 20]"
      ]
     },
     "execution_count": 14,
     "metadata": {},
     "output_type": "execute_result"
    }
   ],
   "source": [
    "genkey_affine()"
   ]
  },
  {
   "cell_type": "code",
   "execution_count": 15,
   "metadata": {},
   "outputs": [
    {
     "data": {
      "text/plain": [
       "1"
      ]
     },
     "execution_count": 15,
     "metadata": {},
     "output_type": "execute_result"
    }
   ],
   "source": [
    "pgcd(19,26)"
   ]
  },
  {
   "cell_type": "markdown",
   "metadata": {},
   "source": [
    "## Cipher_Affine"
   ]
  },
  {
   "cell_type": "code",
   "execution_count": 16,
   "metadata": {},
   "outputs": [],
   "source": [
    "def cipher_affine(message,clef=genkey_affine()):\n",
    "    m=format_message(message)\n",
    "    #print(clef)\n",
    "    chiffre=''\n",
    "    for i in m:\n",
    "        for l,v in dico.items():\n",
    "            if i == l:\n",
    "                chiffre += list_keys[((clef[0] * v ) + clef[1]) % 26]\n",
    "    return chiffre"
   ]
  },
  {
   "cell_type": "code",
   "execution_count": 17,
   "metadata": {},
   "outputs": [
    {
     "data": {
      "text/plain": [
       "'FILO'"
      ]
     },
     "execution_count": 17,
     "metadata": {},
     "output_type": "execute_result"
    }
   ],
   "source": [
    "cipher_affine('ABcd',[3,5])"
   ]
  },
  {
   "cell_type": "code",
   "execution_count": 18,
   "metadata": {},
   "outputs": [
    {
     "data": {
      "text/plain": [
       "'UPVF'"
      ]
     },
     "execution_count": 18,
     "metadata": {},
     "output_type": "execute_result"
    }
   ],
   "source": [
    "cipher_affine('ABfd')"
   ]
  },
  {
   "cell_type": "markdown",
   "metadata": {},
   "source": [
    "## Decipher_Affine"
   ]
  },
  {
   "cell_type": "code",
   "execution_count": 19,
   "metadata": {},
   "outputs": [],
   "source": [
    "def dechifer_affine(chiffre,clef):\n",
    "    m=format_message(chiffre)\n",
    "    #print(clef)\n",
    "    c_d1 = inverse(clef[0]) #c_d1 = 27/clef[0]\n",
    "    c_d2 = (- c_d1 * clef[1] ) % 26 \n",
    "    dechiffre=''\n",
    "    for i in m:\n",
    "        for l,v in dico.items():\n",
    "            if i == l:\n",
    "                dechiffre += list_keys[(c_d1 * v +7 ) % 26]\n",
    "    return dechiffre"
   ]
  },
  {
   "cell_type": "code",
   "execution_count": 20,
   "metadata": {},
   "outputs": [
    {
     "data": {
      "text/plain": [
       "'SUPINFO'"
      ]
     },
     "execution_count": 20,
     "metadata": {},
     "output_type": "execute_result"
    }
   ],
   "source": [
    "dechifer_affine('hnydSUV',[3,5])"
   ]
  },
  {
   "cell_type": "markdown",
   "metadata": {},
   "source": [
    "## 3__Substitution"
   ]
  },
  {
   "cell_type": "markdown",
   "metadata": {},
   "source": [
    "En cryptographie , un chiffrement de substitution est une méthode de chiffrement par laquelle des unités de texte en clair sont remplacées par du texte chiffré , selon un système fixe; les \"unités\" peuvent être des lettres simples (les plus courantes), des paires de lettres, des triplets de lettres, des mélanges de ce qui précède, etc. Le récepteur déchiffre le texte en effectuant la substitution inverse.\n",
    "\n"
   ]
  },
  {
   "cell_type": "markdown",
   "metadata": {},
   "source": [
    "## Genkey_Substitution"
   ]
  },
  {
   "cell_type": "code",
   "execution_count": 21,
   "metadata": {},
   "outputs": [],
   "source": [
    "def genkey_sub():\n",
    "    list_key_sub = []\n",
    "    while len(list_key_sub) != 26:\n",
    "        lettre = random.choice(string.ascii_uppercase)\n",
    "        if lettre not in list_key_sub:\n",
    "            list_key_sub.append(lettre)\n",
    "    z = zip(list_keys,list_key_sub)\n",
    "    dict_sub = dict(z)\n",
    "    return dict_sub"
   ]
  },
  {
   "cell_type": "code",
   "execution_count": 22,
   "metadata": {},
   "outputs": [
    {
     "data": {
      "text/plain": [
       "{'A': 'N',\n",
       " 'B': 'X',\n",
       " 'C': 'D',\n",
       " 'D': 'Q',\n",
       " 'E': 'R',\n",
       " 'F': 'V',\n",
       " 'G': 'I',\n",
       " 'H': 'O',\n",
       " 'I': 'K',\n",
       " 'J': 'P',\n",
       " 'K': 'W',\n",
       " 'L': 'S',\n",
       " 'M': 'H',\n",
       " 'N': 'G',\n",
       " 'O': 'Z',\n",
       " 'P': 'A',\n",
       " 'Q': 'U',\n",
       " 'R': 'T',\n",
       " 'S': 'J',\n",
       " 'T': 'Y',\n",
       " 'U': 'B',\n",
       " 'V': 'F',\n",
       " 'W': 'L',\n",
       " 'X': 'M',\n",
       " 'Y': 'C',\n",
       " 'Z': 'E'}"
      ]
     },
     "execution_count": 22,
     "metadata": {},
     "output_type": "execute_result"
    }
   ],
   "source": [
    "genkey_sub()"
   ]
  },
  {
   "cell_type": "markdown",
   "metadata": {},
   "source": [
    "## Cipher_Substitution"
   ]
  },
  {
   "cell_type": "code",
   "execution_count": 23,
   "metadata": {},
   "outputs": [],
   "source": [
    "def cipher_sub(message , clef= genkey_sub()):\n",
    "    #m=list(format_message(message).strip())\n",
    "    #print(clef)\n",
    "    m = format_message(message)\n",
    "    chiffre = ''\n",
    "    for i in m:\n",
    "        for l,k in clef.items():\n",
    "            if i == l:\n",
    "                 chiffre += k\n",
    "    return chiffre"
   ]
  },
  {
   "cell_type": "code",
   "execution_count": 24,
   "metadata": {},
   "outputs": [
    {
     "data": {
      "text/plain": [
       "'PLFEA'"
      ]
     },
     "execution_count": 24,
     "metadata": {},
     "output_type": "execute_result"
    }
   ],
   "source": [
    "cipher_sub('abcdu')"
   ]
  },
  {
   "cell_type": "code",
   "execution_count": 25,
   "metadata": {},
   "outputs": [
    {
     "data": {
      "text/plain": [
       "'ABCD'"
      ]
     },
     "execution_count": 25,
     "metadata": {},
     "output_type": "execute_result"
    }
   ],
   "source": [
    "l=list(string.ascii_uppercase)\n",
    "d=list(string.ascii_uppercase)\n",
    "z=zip(d,l)\n",
    "di=dict(z)\n",
    "cipher_sub('abcd',di)"
   ]
  },
  {
   "cell_type": "markdown",
   "metadata": {},
   "source": [
    "## Dechifer_Substitution"
   ]
  },
  {
   "cell_type": "code",
   "execution_count": 26,
   "metadata": {},
   "outputs": [],
   "source": [
    "def dechifer_sub(chiffre,clef):\n",
    "    m=format_message(chiffre)\n",
    "    #clef = {k:v for v,k in clef.items()}\n",
    "    dechiffre = ''\n",
    "    for i in m:\n",
    "        for l,k in clef.items():\n",
    "            if i == k:\n",
    "                dechiffre += l\n",
    "    return dechiffre\n",
    "                "
   ]
  },
  {
   "cell_type": "code",
   "execution_count": 27,
   "metadata": {},
   "outputs": [
    {
     "name": "stdout",
     "output_type": "stream",
     "text": [
      "{'A': 'Z', 'B': 'Y', 'C': 'O', 'D': 'P', 'E': 'A', 'F': 'B', 'G': 'C', 'H': 'D', 'I': 'E', 'J': 'F', 'K': 'G', 'L': 'H', 'M': 'I', 'N': 'J', 'O': 'K', 'P': 'L', 'Q': 'M', 'R': 'N', 'S': 'Q', 'T': 'R', 'U': 'S', 'V': 'T', 'W': 'U', 'X': 'V', 'Y': 'W', 'Z': 'X'}\n"
     ]
    },
    {
     "data": {
      "text/plain": [
       "'ABBA'"
      ]
     },
     "execution_count": 27,
     "metadata": {},
     "output_type": "execute_result"
    }
   ],
   "source": [
    "k=['Z','Y','O','P','A','B','C','D','E','F','G','H','I','J','K','L','M','N','Q','R','S','T','U','V','W','X']\n",
    "d=list(string.ascii_uppercase)\n",
    "z=zip(d,k)\n",
    "di=dict(z)\n",
    "print(di)\n",
    "dechifer_sub('zyyz',di)"
   ]
  },
  {
   "cell_type": "markdown",
   "metadata": {},
   "source": [
    "## 4__Permutation"
   ]
  },
  {
   "cell_type": "markdown",
   "metadata": {},
   "source": [
    "Un chiffrement par transposition (ou chiffrement par permutation) est un chiffre qui consiste à changer l'ordre des lettres, donc à construire des anagrammes. Cette méthode est connue depuis l'Antiquité, puisque les Spartiates utilisaient déjà une scytale.\n",
    "\n",
    "Le chiffrement par transposition demande de découper le texte clair en blocs de taille identique, la même permutation, est utilisée sur chacun des blocs. Le texte doit éventuellement être complété (procédé de bourrage) pour permettre ce découpage. la clef de chiffrement est la permutation elle-même."
   ]
  },
  {
   "cell_type": "markdown",
   "metadata": {},
   "source": [
    "## Genkey_Permutation"
   ]
  },
  {
   "cell_type": "code",
   "execution_count": 28,
   "metadata": {},
   "outputs": [],
   "source": [
    "def genkey_per(n):\n",
    "    #message = format_message(message)\n",
    "    list_key_per = list(range(n))\n",
    "    random.shuffle(list_key_per) #melange la liste\n",
    "    return list_key_per"
   ]
  },
  {
   "cell_type": "code",
   "execution_count": 29,
   "metadata": {},
   "outputs": [
    {
     "data": {
      "text/plain": [
       "[2, 0, 3, 1, 4]"
      ]
     },
     "execution_count": 29,
     "metadata": {},
     "output_type": "execute_result"
    }
   ],
   "source": [
    "genkey_per(5)"
   ]
  },
  {
   "cell_type": "markdown",
   "metadata": {},
   "source": [
    "## Cipher_Permutation"
   ]
  },
  {
   "cell_type": "code",
   "execution_count": 30,
   "metadata": {},
   "outputs": [],
   "source": [
    "def cipher_per(message,clef=0):\n",
    "    m= format_message(message)\n",
    "    if  clef == 0 :\n",
    "        clef=genkey_per(len(m))\n",
    "    chiffre =''\n",
    "    for i in clef:\n",
    "        chiffre += m[i]\n",
    "    return chiffre"
   ]
  },
  {
   "cell_type": "code",
   "execution_count": 31,
   "metadata": {},
   "outputs": [
    {
     "data": {
      "text/plain": [
       "'ECABD'"
      ]
     },
     "execution_count": 31,
     "metadata": {},
     "output_type": "execute_result"
    }
   ],
   "source": [
    "cipher_per('abcde',[4,2,0,1,3])"
   ]
  },
  {
   "cell_type": "code",
   "execution_count": 32,
   "metadata": {},
   "outputs": [
    {
     "data": {
      "text/plain": [
       "'ALALT'"
      ]
     },
     "execution_count": 32,
     "metadata": {},
     "output_type": "execute_result"
    }
   ],
   "source": [
    "cipher_per('talla')"
   ]
  },
  {
   "cell_type": "markdown",
   "metadata": {},
   "source": [
    "## Decifer__Permutation\n"
   ]
  },
  {
   "cell_type": "code",
   "execution_count": 33,
   "metadata": {},
   "outputs": [],
   "source": [
    "def decipher_per(chiffre,clef):\n",
    "    dechiffre=''\n",
    "    m=format_message(chiffre)\n",
    "    l=list(range(len(clef)))\n",
    "    dic=dict(zip(clef,l)) #{4:0,3:2...0:4} \n",
    "    for i in range(len(clef)):\n",
    "        dechiffre += m[dic[i]]\n",
    "    return dechiffre"
   ]
  },
  {
   "cell_type": "code",
   "execution_count": 34,
   "metadata": {},
   "outputs": [
    {
     "data": {
      "text/plain": [
       "'ABCDE'"
      ]
     },
     "execution_count": 34,
     "metadata": {},
     "output_type": "execute_result"
    }
   ],
   "source": [
    "decipher_per('ECABD',[4,2,0,1,3])"
   ]
  },
  {
   "cell_type": "code",
   "execution_count": null,
   "metadata": {},
   "outputs": [],
   "source": []
  },
  {
   "cell_type": "markdown",
   "metadata": {},
   "source": [
    "## 5__Vigenere"
   ]
  },
  {
   "cell_type": "markdown",
   "metadata": {},
   "source": [
    "Le chiffre de Vigenère est un système de chiffrement par substitution polyalphabétique mais une même lettre du message clair peut, suivant sa position dans celui-ci, être remplacée par des lettres différentes\n",
    "\n",
    "Ce chiffrement introduit la notion de clé. Une clé se présente généralement sous la forme d'un mot ou d'une phrase. Pour pouvoir chiffrer notre texte, à chaque caractère nous utilisons une lettre de la clé pour effectuer la substitution.\n",
    "\n",
    "L'outil indispensable du chiffrement de Vigenère est la « table de Vigenère »\n",
    "\n",
    "Pour chaque lettre en clair, on sélectionne la colonne correspondante et pour une lettre de la clé on sélectionne la ligne adéquate, puis au croisement de la ligne et de la colonne on trouve la lettre chiffrée. La lettre de la clé est à prendre dans l'ordre dans laquelle elle se présente et on répète la clé en boucle autant que nécessaire.\n",
    "\n",
    "Mathématiquement, on identifie les lettres de l'alphabet aux nombres de 0 à 25 (A=0, B=1...). Les opérations de chiffrement et de déchiffrement sont, pour chaque lettre, celles du chiffre de César. En désignant la ie lettre du texte clair par Texte[i], la ie du chiffré par Chiffré[i], et la ie lettre de la clé, répétée suffisamment de fois, par Clés[i], elle se formalise par :\n",
    "\n",
    "Chiffré[i] = (Texte[i] + Clés[i]) modulo 26\n",
    "\n",
    "Texte[i] = (Chiffré[i] - Clés[i]) modulo 26\n",
    "\n",
    "où x modulo 26 désigne le reste de la division entière de x par 26"
   ]
  },
  {
   "cell_type": "markdown",
   "metadata": {},
   "source": [
    "## Genkey_Vigenere"
   ]
  },
  {
   "cell_type": "code",
   "execution_count": 35,
   "metadata": {},
   "outputs": [],
   "source": [
    "def genkey_vig():\n",
    "    n = random.randint(1,25)  #nombre de lettre du clef\n",
    "    clef =''\n",
    "    for i in range(n):\n",
    "        clef += random.choice(list_keys)\n",
    "    return clef"
   ]
  },
  {
   "cell_type": "code",
   "execution_count": 36,
   "metadata": {},
   "outputs": [
    {
     "data": {
      "text/plain": [
       "'PU'"
      ]
     },
     "execution_count": 36,
     "metadata": {},
     "output_type": "execute_result"
    }
   ],
   "source": [
    "genkey_vig()"
   ]
  },
  {
   "cell_type": "markdown",
   "metadata": {},
   "source": [
    "## Cipher_Vigenere"
   ]
  },
  {
   "cell_type": "code",
   "execution_count": 37,
   "metadata": {},
   "outputs": [],
   "source": [
    "def cipher_vig(message , clef = genkey_vig() ):\n",
    "    m = format_message(message)\n",
    "    c = format_message(clef)\n",
    "    chiffrer = ''\n",
    "    j,s=0,0\n",
    "    for i in range(len(m)):\n",
    "        s = dico [m[i]] + dico[c[j]]\n",
    "        s= s % 26\n",
    "        chiffrer += list_keys[s]  #listkey contient les lettere A,B,C...Z\n",
    "        j += 1\n",
    "        if j >= len(c) :\n",
    "            j=0\n",
    "    return chiffrer"
   ]
  },
  {
   "cell_type": "code",
   "execution_count": 38,
   "metadata": {},
   "outputs": [
    {
     "data": {
      "text/plain": [
       "'DHKMJCMHVWIILRPZI'"
      ]
     },
     "execution_count": 38,
     "metadata": {},
     "output_type": "execute_result"
    }
   ],
   "source": [
    "cipher_vig('chiffredevigenere','bachelier')"
   ]
  },
  {
   "cell_type": "code",
   "execution_count": 39,
   "metadata": {},
   "outputs": [
    {
     "data": {
      "text/plain": [
       "'RTBYCHINDYDVQGXOU'"
      ]
     },
     "execution_count": 39,
     "metadata": {},
     "output_type": "execute_result"
    }
   ],
   "source": [
    "cipher_vig('chiffredevigenere')"
   ]
  },
  {
   "cell_type": "markdown",
   "metadata": {},
   "source": [
    "## Decipher_Vigenere"
   ]
  },
  {
   "cell_type": "code",
   "execution_count": 40,
   "metadata": {},
   "outputs": [],
   "source": [
    "def decipher_vig(chiffrer, clef ):\n",
    "    m = format_message(chiffrer)\n",
    "    c = format_message(clef)\n",
    "    j,s=0,0\n",
    "    dechiffrer =''\n",
    "    \n",
    "    for i in range(len(m)):\n",
    "        s = dico[m[i]] - dico[c[j]]\n",
    "        s = s % 26\n",
    "        dechiffrer += list_keys[s]\n",
    "        j += 1\n",
    "        if j >= len(c):\n",
    "            j = 0\n",
    "    return dechiffrer"
   ]
  },
  {
   "cell_type": "code",
   "execution_count": 41,
   "metadata": {},
   "outputs": [
    {
     "data": {
      "text/plain": [
       "'CHIFFREDEVIGENERE'"
      ]
     },
     "execution_count": 41,
     "metadata": {},
     "output_type": "execute_result"
    }
   ],
   "source": [
    "decipher_vig('DHKMJCMHVWIILRPZI','bachelier')"
   ]
  },
  {
   "cell_type": "code",
   "execution_count": null,
   "metadata": {},
   "outputs": [],
   "source": []
  },
  {
   "cell_type": "markdown",
   "metadata": {},
   "source": [
    "## 6__Hill"
   ]
  },
  {
   "cell_type": "markdown",
   "metadata": {},
   "source": [
    "le chiffre de Hill est un modèle simple d'extension du chiffrement affine à un blo\n",
    "\n",
    "**Formule du chiffrement de Hill**\n",
    "\n",
    "Soient a, b, c et d des éléments de N.\n",
    "\n",
    "Un bigramme (x1,x2) du message d'origine sera chiffré par le bigramme (y1,y2) vérifiant:\n",
    "\n",
    "y1 ≡ax1+bx2[26] et 0 ≤y1≤ 25\n",
    "\n",
    "y2 ≡cx1+dx2[26] et 0 ≤y2≤ 25\n",
    "\n",
    "**Formule du déchiffrement de Hill**\n",
    "\n",
    "Soient a, b, c et d des éléments de N tels que PGCD(ad−bc,26)=1.\n",
    "\n",
    "Soit i l'inverse multiplicatif de ad−bc modulo 26.\n",
    "\n",
    "Un bigramme (y1,y2) du message chiffré correspondra au bigramme (x1,x2) du message d'origine vérifiant\n",
    "\n",
    "x1≡i(dy1−by2)[26]\n",
    "x2≡i(−cy1+ay2)[26]\n",
    "\n",
    "**Validité de la clé**\n",
    "\n",
    "Un quadruplet (a,b,c,d) convient (au sens précédent) pour un algorithme de chiffrement de Hill si et seulement si ad−bc et 26 sont premiers entre eux, i.e. \n",
    "\n",
    "PGCD(ad−bc,26)=1.\n",
    "\n"
   ]
  },
  {
   "cell_type": "markdown",
   "metadata": {},
   "source": [
    "## Genkey_Hill"
   ]
  },
  {
   "cell_type": "code",
   "execution_count": 45,
   "metadata": {},
   "outputs": [],
   "source": [
    "def genkey_hill():\n",
    "    i=random.randint(0,25)\n",
    "    j=random.randint(0,25)\n",
    "    k=random.randint(0,25)\n",
    "    l=random.randint(0,25) \n",
    "    s= (i*l) - (j*k)\n",
    "    while pgcd(s,26) != 1:\n",
    "        i=random.randint(0,25)\n",
    "        j=random.randint(0,25)\n",
    "        k=random.randint(0,25)\n",
    "        l=random.randint(0,25) \n",
    "    a,b,c,d = i,j,k,l\n",
    "    key = [i,j,k,l]\n",
    "    return key"
   ]
  },
  {
   "cell_type": "code",
   "execution_count": 46,
   "metadata": {},
   "outputs": [
    {
     "data": {
      "text/plain": [
       "[7, 21, 3, 6]"
      ]
     },
     "execution_count": 46,
     "metadata": {},
     "output_type": "execute_result"
    }
   ],
   "source": [
    "genkey_hill()"
   ]
  },
  {
   "cell_type": "code",
   "execution_count": 47,
   "metadata": {},
   "outputs": [
    {
     "data": {
      "text/plain": [
       "1"
      ]
     },
     "execution_count": 47,
     "metadata": {},
     "output_type": "execute_result"
    }
   ],
   "source": [
    "#pgcd((21*20 - 23* 11 ),26)\n",
    "pgcd((14*23 - 15* 9 ),26)"
   ]
  },
  {
   "cell_type": "markdown",
   "metadata": {},
   "source": [
    "## Cipher_Hill"
   ]
  },
  {
   "cell_type": "code",
   "execution_count": 48,
   "metadata": {},
   "outputs": [],
   "source": [
    "def cipher_hill(message,clef=genkey_hill()):\n",
    "    m=format_message(message)\n",
    "    chiffrer = ''\n",
    "    y1=''\n",
    "    y2=''\n",
    "    i=0\n",
    "    if len(m) % 2 !=0:\n",
    "        m += 'X'\n",
    "    while i < len(m):\n",
    "        x1= (dico[m[i]]*clef[0] + dico[m[i+1]]*clef[1] ) % 26\n",
    "        y1=list_keys[x1]\n",
    "        x2=(dico[m[i]]*clef[2] + dico[m[i+1]]*clef[3]) % 26\n",
    "        y2=list_keys[x2]\n",
    "        chiffrer +=  y1 + y2\n",
    "        i += 2\n",
    "    return chiffrer"
   ]
  },
  {
   "cell_type": "code",
   "execution_count": 49,
   "metadata": {},
   "outputs": [
    {
     "data": {
      "text/plain": [
       "'OIDYUXTL'"
      ]
     },
     "execution_count": 49,
     "metadata": {},
     "output_type": "execute_result"
    }
   ],
   "source": [
    "cipher_hill('supinfo',[5,17,4,15])"
   ]
  },
  {
   "cell_type": "code",
   "execution_count": 50,
   "metadata": {},
   "outputs": [
    {
     "data": {
      "text/plain": [
       "'EIMLRFDS'"
      ]
     },
     "execution_count": 50,
     "metadata": {},
     "output_type": "execute_result"
    }
   ],
   "source": [
    "cipher_hill('supinfo')"
   ]
  },
  {
   "cell_type": "markdown",
   "metadata": {},
   "source": [
    "## Decipher_Hill"
   ]
  },
  {
   "cell_type": "code",
   "execution_count": 51,
   "metadata": {},
   "outputs": [],
   "source": [
    "def decipher_hill(chiffrer,clef):\n",
    "    m=format_message(chiffrer)\n",
    "    dechiffrer=''\n",
    "    y1,y2=0,0\n",
    "    i = 0 \n",
    "    det = (clef[0] * clef[3] ) - (clef[1] * clef[2])\n",
    "    inv =inverse(det) #inverse multiplicative\n",
    "    while i < len(m):\n",
    "        y1=(inv * (dico[m[i]]*clef[3] - dico[m[i+1]]*clef[1])) % 26\n",
    "        x1=list_keys[y1]\n",
    "        y2=(inv * (-clef[2]*dico[m[i]] + dico[m[i+1]]*clef[0])) % 26\n",
    "        x2=list_keys[y2]\n",
    "        dechiffrer += (x1 + x2)\n",
    "        i += 2\n",
    "    return dechiffrer"
   ]
  },
  {
   "cell_type": "code",
   "execution_count": 52,
   "metadata": {},
   "outputs": [
    {
     "data": {
      "text/plain": [
       "'SUPINFOX'"
      ]
     },
     "execution_count": 52,
     "metadata": {},
     "output_type": "execute_result"
    }
   ],
   "source": [
    "decipher_hill('oidyuxtl',[5,17,4,15])"
   ]
  },
  {
   "cell_type": "markdown",
   "metadata": {},
   "source": [
    "## 7__Vernam"
   ]
  },
  {
   "cell_type": "markdown",
   "metadata": {},
   "source": [
    "Le chiffre de Vernam est considéré comme une amélioration significative du chiffre de Vigenère car cet algorithme de chiffrement est théoriquement impossible à casser. \n",
    "\n",
    "La clé est de la taille du message à envoyer\n",
    "\n",
    "Les lettres de cette clé sont choisies de façon totalement aléatoire\n",
    "\n",
    "La clé ne doit servir qu'une seule et unique fois\n",
    "\n"
   ]
  },
  {
   "cell_type": "markdown",
   "metadata": {},
   "source": [
    "## Genkey_Vernam"
   ]
  },
  {
   "cell_type": "code",
   "execution_count": 50,
   "metadata": {},
   "outputs": [],
   "source": [
    "def genkey_vern(n):\n",
    "    b = False\n",
    "    s=set()\n",
    "    while b == False:\n",
    "        key = ''\n",
    "        for i in range(n):\n",
    "            key += random.choice(string.ascii_uppercase)\n",
    "        if key in s:\n",
    "            #verifie si la clee a ete deja cree\n",
    "            pass\n",
    "        else: \n",
    "            s.add(key)\n",
    "            b = True\n",
    "    return key"
   ]
  },
  {
   "cell_type": "code",
   "execution_count": 49,
   "metadata": {},
   "outputs": [
    {
     "data": {
      "text/plain": [
       "'MRPQY'"
      ]
     },
     "execution_count": 49,
     "metadata": {},
     "output_type": "execute_result"
    }
   ],
   "source": [
    "genkey_vern(5)"
   ]
  },
  {
   "cell_type": "markdown",
   "metadata": {},
   "source": [
    "## Cipher_Vernam "
   ]
  },
  {
   "cell_type": "code",
   "execution_count": 63,
   "metadata": {},
   "outputs": [],
   "source": [
    "def cipher_vern(message,clef=0):\n",
    "    m=format_message(message)\n",
    "    clef = genkey_vern(len(m))\n",
    "    chiffrer = ''\n",
    "    s= 0\n",
    "    for i in range(len(m)):\n",
    "        s = dico[m[i]] + dico[clef[i]]\n",
    "        s = s % 26\n",
    "        chiffrer += list_keys[s]\n",
    "    return chiffrer"
   ]
  },
  {
   "cell_type": "code",
   "execution_count": 61,
   "metadata": {},
   "outputs": [],
   "source": [
    "#cipher_vern('hello','WMCKL')"
   ]
  },
  {
   "cell_type": "code",
   "execution_count": 65,
   "metadata": {},
   "outputs": [
    {
     "data": {
      "text/plain": [
       "'KVSMH'"
      ]
     },
     "execution_count": 65,
     "metadata": {},
     "output_type": "execute_result"
    }
   ],
   "source": [
    "cipher_vern('hello')"
   ]
  },
  {
   "cell_type": "markdown",
   "metadata": {},
   "source": [
    "## Decipher_Vernam"
   ]
  },
  {
   "cell_type": "code",
   "execution_count": 71,
   "metadata": {},
   "outputs": [],
   "source": [
    "def decipher_vern(chiffrer,clef):\n",
    "    c=format_message(chiffrer)\n",
    "    clef=format_message(clef)\n",
    "    dechiffrer = ''\n",
    "    s= 0\n",
    "    for i in range(len(c)):\n",
    "        s = dico[c[i]] - dico[clef[i]]\n",
    "        s = s % 26\n",
    "        dechiffrer += list_keys[s]\n",
    "    return dechiffrer"
   ]
  },
  {
   "cell_type": "code",
   "execution_count": 72,
   "metadata": {},
   "outputs": [
    {
     "data": {
      "text/plain": [
       "'HELLO'"
      ]
     },
     "execution_count": 72,
     "metadata": {},
     "output_type": "execute_result"
    }
   ],
   "source": [
    "decipher_vern('dqnvz','wmckl')"
   ]
  },
  {
   "cell_type": "code",
   "execution_count": null,
   "metadata": {},
   "outputs": [],
   "source": []
  },
  {
   "cell_type": "markdown",
   "metadata": {},
   "source": [
    "# Partie 2: Cryptanalyse"
   ]
  },
  {
   "cell_type": "code",
   "execution_count": 103,
   "metadata": {},
   "outputs": [],
   "source": [
    "freq_alph =\\\n",
    "{'A': 8.2/100,\n",
    "'B': 1.5/100,\n",
    "'C': 2.8/100,\n",
    "'D': 4.18/100,\n",
    "'E': 17.3/100,\n",
    "'F': 1.12/100,\n",
    "'G': 1.27/100,\n",
    "'H': 0.92/100,\n",
    "'I': 7.34/100,\n",
    "'J': 0.31/100,\n",
    "'K': 0.05/100,\n",
    "'L': 6.01/100,\n",
    "'M': 2.96/100,\n",
    "'N': 7.13/100,\n",
    "'O': 5.26/100,\n",
    "'P': 3.01/100,\n",
    "'Q': 0.99/100,\n",
    "'R': 6.55/100,\n",
    "'S': 8.1/100,\n",
    "'T': 7.07/100,\n",
    "'U': 5.74/100,\n",
    "'V': 1.32/100,\n",
    "'W': 0.04/100,\n",
    "'X': 0.45/100,\n",
    "'Y': 0.30/100,\n",
    "'Z': 0.12/100}"
   ]
  },
  {
   "cell_type": "code",
   "execution_count": 104,
   "metadata": {},
   "outputs": [],
   "source": [
    "ciph=\"\"\"\n",
    "DKR XKPGWKR MPIKUPKR WJPRIMIQKPI QP ZKR HDQR VUJR UMRSQKR HJQU\n",
    "IJQIKR DKR JUVGPMRGIMJPR N WJXHUMR WKDDKR GQ RKPKVGD DKR KXHDJNKR\n",
    "ZKR JUVGPMRGIMJPR GNGPI GWWKR GQY RNRIKXKR KI GQY ZJPPKKR\n",
    "WUMIMSQKR RJPI KQYXKXKR QPK XKPGWK WGU HJQAGPI WGQRKU ZKR\n",
    "ZJXXGVKR BMPGPWMKUR KI ZKR ZJXXGVKR G DG UKHQIGIMJP G IUGAKUR DK\n",
    "AJD ZK ZJPPKKR RKPRMODKR WKR KXHDJNKR HKQAKPI KVGDKXKPI QIMDMRKU\n",
    "DKQU WJPPGMRRGPWK ZK DJUVGPMRGIMJP ZGPR DK OQI ZK HKUXKIIUK\n",
    "JQ ZK HKUHKIUKU QPK GIIGSQK AMRGPI G HKUIQUOKU DK OJP BJPWIMJPPKXKPI\n",
    "ZK DKQU JUVGPMRGIMJP JQIUK WKR GWIKR ZKDMOKUKR DKR\n",
    "KXHDJNKR HKQAKPI WGQRKU ZKR ZJXXGVKR HGU MPGZAKUIGPWK ZQ BGMI\n",
    "ZK DKQU MVPJUGPWK ZKR HUJWKZQUKR ZK RKWQUMIK ZK DJUVGPMRGIMJP\n",
    "PJIGXXKPI HGU DK IKDKWFGUVKXKPI ZKR WJPIKPQR PJP RQUR DQRGVK ZK\n",
    "HKUMHFKUMSQKR MPBKWIKR JQ KP JQAUGPI ZQ WJQUUMKD ZFGXKWJPPGVK\n",
    "WKR KXHDJNKR HKQAKPI KVGDKXKPI ZKAKPMU ZKR AMWIMXKR ZGWIKR\n",
    "ZMPVKPMKUMK RJWMGDK G IUGAKUR DKRSQKDR MDR ZJPPKPI GDJUR HGU\n",
    "MVPJUGPWK GWWKR G DKQUR UKRKGQY JQ KYKWQIKPI ZKR MPRIUQWIMJPR\n",
    "GQY GHHGUKPWKR MPJBBKPRMAKR XGMR HUJBMIGPI GQY WNOKUWUMXMPKDR\n",
    "G WKI KVGUZ DG HUKRMZKPWK ZK DG UKHQODMSQK GVMRRGPI HGU\n",
    "DMPIKUXKZMGMUK ZK DG WJXXMRRMJP PGIMJPGDK ZK WUNHIJDJVMK WPW G\n",
    "HUMR DKR ZKAGPIR KI G HUKRWUMI ZKR XKRQUKR ZKIGMDDKKR UKDGIMAKR\n",
    "G DG HJDMIMSQK ZK RKWQUMIK ZKR RNRIKXKR ZMPBJUXGIMJP ZK DKIGI ZQ\n",
    "RKPKVGD HRRMKR\n",
    "\"\"\""
   ]
  },
  {
   "cell_type": "markdown",
   "metadata": {},
   "source": [
    "## La frequence des lettres dans ciph"
   ]
  },
  {
   "cell_type": "code",
   "execution_count": 109,
   "metadata": {},
   "outputs": [],
   "source": [
    "from collections import Counter \n",
    "freq_alph_ciph =  {}\n",
    "m = format_message(ciph)\n",
    "n_lettre = Counter(m) \n",
    "for i ,j in lettres.items():\n",
    "    freq_alph_ciph[i] = round( ((j * 100 ) / len(m)), 2) #roud arrondi apres 2 chiffre apres la virgule"
   ]
  },
  {
   "cell_type": "code",
   "execution_count": 110,
   "metadata": {},
   "outputs": [
    {
     "data": {
      "text/plain": [
       "Counter({'D': 53,\n",
       "         'K': 196,\n",
       "         'R': 113,\n",
       "         'X': 33,\n",
       "         'P': 89,\n",
       "         'G': 91,\n",
       "         'W': 47,\n",
       "         'M': 71,\n",
       "         'I': 75,\n",
       "         'U': 74,\n",
       "         'J': 59,\n",
       "         'Q': 54,\n",
       "         'Z': 48,\n",
       "         'H': 33,\n",
       "         'V': 22,\n",
       "         'S': 7,\n",
       "         'N': 10,\n",
       "         'Y': 7,\n",
       "         'A': 15,\n",
       "         'B': 8,\n",
       "         'O': 7,\n",
       "         'F': 3})"
      ]
     },
     "execution_count": 110,
     "metadata": {},
     "output_type": "execute_result"
    }
   ],
   "source": [
    "n_lettre"
   ]
  },
  {
   "cell_type": "code",
   "execution_count": 111,
   "metadata": {},
   "outputs": [
    {
     "data": {
      "text/plain": [
       "{'D': 4.75,\n",
       " 'K': 17.58,\n",
       " 'R': 10.13,\n",
       " 'X': 2.96,\n",
       " 'P': 7.98,\n",
       " 'G': 8.16,\n",
       " 'W': 4.22,\n",
       " 'M': 6.37,\n",
       " 'I': 6.73,\n",
       " 'U': 6.64,\n",
       " 'J': 5.29,\n",
       " 'Q': 4.84,\n",
       " 'Z': 4.3,\n",
       " 'H': 2.96,\n",
       " 'V': 1.97,\n",
       " 'S': 0.63,\n",
       " 'N': 0.9,\n",
       " 'Y': 0.63,\n",
       " 'A': 1.35,\n",
       " 'B': 0.72,\n",
       " 'O': 0.63,\n",
       " 'F': 0.27}"
      ]
     },
     "execution_count": 111,
     "metadata": {},
     "output_type": "execute_result"
    }
   ],
   "source": [
    "freq_alph_ciph"
   ]
  },
  {
   "cell_type": "markdown",
   "metadata": {},
   "source": [
    "## La lettre correspondant a E dans ciph"
   ]
  },
  {
   "cell_type": "markdown",
   "metadata": {},
   "source": [
    "En comparant freq_alph et freq_alph_ciph on constate que **K correspond a  E**"
   ]
  },
  {
   "cell_type": "markdown",
   "metadata": {},
   "source": [
    "## Une (possible) correspondance dans l’alphabet de chaque lettre du chiffré ciph."
   ]
  },
  {
   "cell_type": "code",
   "execution_count": 162,
   "metadata": {},
   "outputs": [
    {
     "data": {
      "text/plain": [
       "[('A', 1.35),\n",
       " ('B', 0.72),\n",
       " ('D', 4.75),\n",
       " ('F', 0.27),\n",
       " ('G', 8.16),\n",
       " ('H', 2.96),\n",
       " ('I', 6.73),\n",
       " ('J', 5.29),\n",
       " ('K', 17.58),\n",
       " ('M', 6.37),\n",
       " ('N', 0.9),\n",
       " ('O', 0.63),\n",
       " ('P', 7.98),\n",
       " ('Q', 4.84),\n",
       " ('R', 10.13),\n",
       " ('S', 0.63),\n",
       " ('U', 6.64),\n",
       " ('V', 1.97),\n",
       " ('W', 4.22),\n",
       " ('X', 2.96),\n",
       " ('Y', 0.63),\n",
       " ('Z', 4.3)]"
      ]
     },
     "execution_count": 162,
     "metadata": {},
     "output_type": "execute_result"
    }
   ],
   "source": [
    "sorted(freq_alph_ciph.items(), key=lambda t: t[0])\n",
    "#trie du dict suivant valeur"
   ]
  },
  {
   "cell_type": "markdown",
   "metadata": {},
   "source": [
    "En comparant freq_alph et freq_alph_ciph on constate que:\n",
    "\n",
    "**R correspond a  S**\n",
    "\n",
    "**G correspond a  A**\n",
    "\n",
    "**P correspond a  N**\n",
    "\n",
    "**I correspond a  T**\n",
    "\n",
    "**U correspond a  R**\n",
    "\n",
    "...."
   ]
  },
  {
   "cell_type": "markdown",
   "metadata": {},
   "source": [
    "\n",
    "## Remplacer chaque caractère de ciph par son (possible) correspondant dans l’alphabet."
   ]
  },
  {
   "cell_type": "code",
   "execution_count": 177,
   "metadata": {},
   "outputs": [],
   "source": [
    "mes = ''\n",
    "dict_cle={'\\n':'\\n',' ':' ','K':'E','R':'S','G':'A','I':'T','D':'L','P':'N','M':'I','Q':'U','U':'R',\n",
    "'O':'B','Z':'D','J':'O','V':'G','W':'C','X':'M','B':'F','H':'P','N':'Y','A':'V','F':'H'\n",
    ",'S':'Q','Y':'X'}\n",
    "for i in ciph :\n",
    "    mes += dict_cle[i]\n",
    " "
   ]
  },
  {
   "cell_type": "markdown",
   "metadata": {},
   "source": [
    "## Déterminer le maximun d’information qu’on peut déduire du message Mes et de la clef secrète de M. SECK"
   ]
  },
  {
   "cell_type": "code",
   "execution_count": 178,
   "metadata": {},
   "outputs": [
    {
     "data": {
      "text/plain": [
       "'\\nLES MENACES INTERNES CONSTITUENT UN DES PLUS GROS RISQUES POUR\\nTOUTES LES ORGANISATIONS Y COMPRIS CELLES AU SENEGAL LES EMPLOYES\\nDES ORGANISATIONS AYANT ACCES AUX SYSTEMES ET AUX DONNEES\\nCRITIQUES SONT EUXMEMES UNE MENACE CAR POUVANT CAUSER DES\\nDOMMAGES FINANCIERS ET DES DOMMAGES A LA REPUTATION A TRAVERS LE\\nVOL DE DONNEES SENSIBLES CES EMPLOYES PEUVENT EGALEMENT UTILISER\\nLEUR CONNAISSANCE DE LORGANISATION DANS LE BUT DE PERMETTRE\\nOU DE PERPETRER UNE ATTAQUE VISANT A PERTURBER LE BON FONCTIONNEMENT\\nDE LEUR ORGANISATION OUTRE CES ACTES DELIBERES LES\\nEMPLOYES PEUVENT CAUSER DES DOMMAGES PAR INADVERTANCE DU FAIT\\nDE LEUR IGNORANCE DES PROCEDURES DE SECURITE DE LORGANISATION\\nNOTAMMENT PAR LE TELECHARGEMENT DES CONTENUS NON SURS LUSAGE DE\\nPERIPHERIQUES INFECTES OU EN OUVRANT DU COURRIEL DHAMECONNAGE\\nCES EMPLOYES PEUVENT EGALEMENT DEVENIR DES VICTIMES DACTES\\nDINGENIERIE SOCIALE A TRAVERS LESQUELS ILS DONNENT ALORS PAR\\nIGNORANCE ACCES A LEURS RESEAUX OU EXECUTENT DES INSTRUCTIONS\\nAUX APPARENCES INOFFENSIVES MAIS PROFITANT AUX CYBERCRIMINELS\\nA CET EGARD LA PRESIDENCE DE LA REPUBLIQUE AGISSANT PAR\\nLINTERMEDIAIRE DE LA COMMISSION NATIONALE DE CRYPTOLOGIE CNC A\\nPRIS LES DEVANTS ET A PRESCRIT DES MESURES DETAILLEES RELATIVES\\nA LA POLITIQUE DE SECURITE DES SYSTEMES DINFORMATION DE LETAT DU\\nSENEGAL PSSIES\\n'"
      ]
     },
     "execution_count": 178,
     "metadata": {},
     "output_type": "execute_result"
    }
   ],
   "source": [
    "mes"
   ]
  },
  {
   "cell_type": "code",
   "execution_count": null,
   "metadata": {},
   "outputs": [],
   "source": []
  },
  {
   "cell_type": "code",
   "execution_count": null,
   "metadata": {},
   "outputs": [],
   "source": []
  },
  {
   "cell_type": "code",
   "execution_count": null,
   "metadata": {},
   "outputs": [],
   "source": []
  }
 ],
 "metadata": {
  "kernelspec": {
   "display_name": "Python 3",
   "language": "python",
   "name": "python3"
  },
  "language_info": {
   "codemirror_mode": {
    "name": "ipython",
    "version": 3
   },
   "file_extension": ".py",
   "mimetype": "text/x-python",
   "name": "python",
   "nbconvert_exporter": "python",
   "pygments_lexer": "ipython3",
   "version": "3.7.4"
  }
 },
 "nbformat": 4,
 "nbformat_minor": 2
}
